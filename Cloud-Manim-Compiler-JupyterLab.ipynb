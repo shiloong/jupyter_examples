{
 "cells": [
  {
   "cell_type": "markdown",
   "id": "substantial-impact",
   "metadata": {},
   "source": [
    "# 欢迎使用：云端Manim·编译器！"
   ]
  },
  {
   "cell_type": "markdown",
   "id": "honest-cruise",
   "metadata": {},
   "source": [
    "### 前往[我的Manim社区](https://manim.notion.site/)\n"
   ]
  },
  {
   "cell_type": "markdown",
   "id": "first-armenia",
   "metadata": {},
   "source": [
    "这是一个***临时环境***，你可以在这里编写 Manim，无需在本地安装。具备一些\n",
    "Python\n",
    "基础知识会有所帮助！但请记住：**你的更改不会被保存，也无法与他人共享。要保存你的工作，你需要下载笔记本文件**（“文件\n",
    "\\> 下载为 \\> 笔记本 (.ipynb)”）。祝你愉快使用！\n",
    "\n",
    "> *有用的资源：*\n",
    ">[Manim文档](https://docs.manim.community)"
   ]
  },
  {
   "cell_type": "markdown",
   "id": "honest-cruise",
   "metadata": {},
   "source": [
    "## 设置"
   ]
  },
  {
   "cell_type": "markdown",
   "id": "governing-increase",
   "metadata": {},
   "source": [
    "我们从导入库中的所有内容开始这个简短的入门指南。运行以下代码单元格来完成导入（聚焦单元格并点击上方的*运行*按钮，或按\n",
    "`Shift`+`Enter`——你可以在页面顶部的*帮助*菜单中找到更多关于如何导航和使用\n",
    "Jupyter 笔记本的信息）。\n",
    "\n",
    "第二行控制在本笔记本中显示***视频的最大宽度***，第三行控制日***志输出的详细程度***。你可以根据自己的喜好调整这两个设置。"
   ]
  },
  {
   "cell_type": "code",
   "execution_count": null,
   "id": "wound-foundation",
   "metadata": {},
   "outputs": [],
   "source": [
    "import manim as mn\n",
    "from manim import *\n",
    "\n",
    "config.media_width = \"75%\"\n",
    "config.verbosity = \"WARNING\"\n",
    "\n",
    "print(mn.__version__)"
   ]
  },
  {
   "cell_type": "markdown",
   "id": "respected-copying",
   "metadata": {},
   "source": [
    "如果你成功执行了该单元格，下方应该会出现一条打印已安装库版本的消息。"
   ]
  },
  {
   "cell_type": "markdown",
   "id": "67426295",
   "metadata": {},
   "source": [
    "## 安装字体"
   ]
  },
  {
   "cell_type": "markdown",
   "id": "6c47930b",
   "metadata": {},
   "source": [
    "在线版的Manim免费而且方便，无需集成，但国内用户苦于无法安装中文字体。\n",
    "\n",
    "本脚本由[**云浮else**](https://yfelse.notion.site/)编写，解决了国内用户无法安装中文字体的问题！"
   ]
  },
  {
   "cell_type": "code",
   "execution_count": null,
   "id": "a0a047c2",
   "metadata": {},
   "outputs": [],
   "source": [
    "import os\n",
    "import sys\n",
    "import platform\n",
    "import subprocess\n",
    "import requests\n",
    "from pathlib import Path\n",
    "import shutil\n",
    "\n",
    "def get_system_font_dir():\n",
    "    \"\"\"获取系统字体目录\"\"\"\n",
    "    system = platform.system()\n",
    "    if system == \"Windows\":\n",
    "        return \"C:\\\\Windows\\\\Fonts\"\n",
    "    elif system == \"Darwin\":  # macOS\n",
    "        return \"/Library/Fonts\"\n",
    "    elif system == \"Linux\":\n",
    "        # 对于Linux，我们使用用户字体目录而不是系统目录，避免权限问题\n",
    "        return os.path.expanduser(\"~/.local/share/fonts\")\n",
    "    else:\n",
    "        raise OSError(f\"不支持的操作系统: {system}\")\n",
    "\n",
    "def install_font(font_url, font_name):\n",
    "    \"\"\"下载并安装字体\"\"\"\n",
    "    font_dir = get_system_font_dir()\n",
    "    \n",
    "    # 创建字体目录（如果不存在）\n",
    "    Path(font_dir).mkdir(parents=True, exist_ok=True)\n",
    "    \n",
    "    # 字体文件路径\n",
    "    font_path = os.path.join(font_dir, font_name)\n",
    "    \n",
    "    # 检查字体是否已安装\n",
    "    if os.path.exists(font_path):\n",
    "        print(f\"字体 {font_name} 已安装，跳过...\")\n",
    "        return True\n",
    "    \n",
    "    try:\n",
    "        # 下载字体\n",
    "        print(f\"正在下载 {font_name}...\")\n",
    "        response = requests.get(font_url, stream=True)\n",
    "        response.raise_for_status()\n",
    "        \n",
    "        # 保存字体文件\n",
    "        with open(font_path, 'wb') as f:\n",
    "            for chunk in response.iter_content(chunk_size=8192):\n",
    "                f.write(chunk)\n",
    "        \n",
    "        print(f\"字体 {font_name} 安装成功！\")\n",
    "        \n",
    "        # Linux系统需要更新字体缓存\n",
    "        if platform.system() == \"Linux\":\n",
    "            subprocess.run([\"fc-cache\", \"-f\", \"-v\"], check=True)\n",
    "            print(\"字体缓存已更新\")\n",
    "            \n",
    "        return True\n",
    "        \n",
    "    except Exception as e:\n",
    "        print(f\"安装 {font_name} 失败: {str(e)}\")\n",
    "        # 清理可能不完整的文件\n",
    "        if os.path.exists(font_path):\n",
    "            os.remove(font_path)\n",
    "        return False\n",
    "\n",
    "def install_matplotlib_font_config():\n",
    "    \"\"\"配置Matplotlib使用中文字体\"\"\"\n",
    "    try:\n",
    "        import matplotlib\n",
    "        import matplotlib.pyplot as plt\n",
    "        \n",
    "        # 配置matplotlibrc文件\n",
    "        matplotlib.rcParams[\"font.family\"] = [\"SimHei\", \"WenQuanYi Micro Hei\", \"Heiti TC\", \"Arial Unicode MS\"]\n",
    "        matplotlib.rcParams[\"axes.unicode_minus\"] = False  # 解决负号显示问题\n",
    "        \n",
    "        # 保存配置\n",
    "        plt.rcParams.update(matplotlib.rcParams)\n",
    "        \n",
    "        print(\"Matplotlib 字体配置已更新\")\n",
    "        return True\n",
    "    except ImportError:\n",
    "        print(\"未安装Matplotlib，跳过Matplotlib字体配置\")\n",
    "        return False\n",
    "    except Exception as e:\n",
    "        print(f\"配置Matplotlib字体失败: {str(e)}\")\n",
    "        return False\n",
    "\n",
    "def main():\n",
    "    print(f\"检测到操作系统: {platform.system()}\")\n",
    "    print(f\"系统字体目录: {get_system_font_dir()}\")\n",
    "    \n",
    "    # 中文字体列表 (名称, 下载链接)\n",
    "    chinese_fonts = [\n",
    "        (\"SimHei.ttf\", \"https://github.com/StellarCN/scp_zh/raw/master/fonts/SimHei.ttf\"),\n",
    "        (\"WenQuanYi Micro Hei.ttc\", \"https://github.com/StellarCN/scp_zh/raw/master/fonts/WenQuanYi%20Micro%20Hei.ttc\"),\n",
    "        (\"NotoSansCJK-Regular.ttc\", \"https://github.com/googlefonts/noto-cjk/raw/main/Sans/OTC/NotoSansCJK-Regular.ttc\")\n",
    "    ]\n",
    "    \n",
    "    # 安装字体\n",
    "    print(\"\\n开始安装中文字体...\")\n",
    "    for font_name, font_url in chinese_fonts:\n",
    "        install_font(font_url, font_name)\n",
    "    \n",
    "    # 配置Matplotlib\n",
    "    print(\"\\n配置Matplotlib字体...\")\n",
    "    install_matplotlib_font_config()\n",
    "    \n",
    "    print(\"\\n字体安装完成！请重启Jupyter Notebook以使字体生效。\")\n",
    "    print(\"如果仍然有中文显示问题，可以尝试清除浏览器缓存或重新启动计算机。\")\n",
    "\n",
    "if __name__ == \"__main__\":\n",
    "    main()"
   ]
  },
  {
   "cell_type": "markdown",
   "id": "60b716c9",
   "metadata": {},
   "source": [
    "如果你成功执行了该单元格，那么你已经安装好了中文字体！"
   ]
  },
  {
   "cell_type": "markdown",
   "id": "antique-knock",
   "metadata": {},
   "source": [
    "## 你的第一个场景"
   ]
  },
  {
   "cell_type": "markdown",
   "id": "drawn-dylan",
   "metadata": {},
   "source": [
    "Manim 通过渲染*场景（Scenes）* 来生成视频。这些是特殊的类，具有一个\n",
    "`construct` 方法，描述应该渲染的动画。（对于本教程，如果你不太熟悉\n",
    "Python 或面向对象编程术语，如*类*或*方法*，也没关系——但如果你想继续学习\n",
    "Manim，应该考虑学习一个 Python 教程。）\n",
    "\n",
    "说了这么多专业术语，让我们来看一个例子。运行下面的单元格来渲染并显示一个视频。"
   ]
  },
  {
   "cell_type": "code",
   "execution_count": null,
   "id": "complicated-retirement",
   "metadata": {},
   "outputs": [],
   "source": [
    "%%manim -qm CircleToSquare\n",
    "\n",
    "class CircleToSquare(Scene):\n",
    "    def construct(self):\n",
    "        blue_circle = Circle(color=BLUE, fill_opacity=0.5)\n",
    "        green_square = Square(color=GREEN, fill_opacity=0.8)\n",
    "        self.play(Create(blue_circle))\n",
    "        self.wait()\n",
    "        \n",
    "        self.play(Transform(blue_circle, green_square))\n",
    "        self.wait()"
   ]
  },
  {
   "cell_type": "markdown",
   "id": "tutorial-kelly",
   "metadata": {},
   "source": [
    "虽然这个例子的部分内容可能看起来不言自明，但我们还是会一步一步地讲解。首先，\n",
    "\n",
    "    %%manim -qm CircleToSquare\n",
    "\n",
    "是一个*魔术命令*，它只在 Jupyter 笔记本中有效。这与你从终端调用 `manim`\n",
    "非常相似：标志 `-qm` 控制渲染质量，它是 `--quality=m`\n",
    "的缩写，即中等渲染质量。这意味着视频将以 720p、30\n",
    "帧/秒的速度渲染。（尝试将其改为 `-qh` 或 `-ql`\n",
    "以获得*高*质量和*低*质量！）\n",
    "\n",
    "最后，`CircleToSquare`\n",
    "是你想要在这个特定单元格中渲染的场景类的名称，这也让我们看到了接下来的几行：\n",
    "\n",
    "``` py\n",
    "class CircleToSquare(Scene):\n",
    "    def construct(self):\n",
    "        [...]\n",
    "```\n",
    "\n",
    "这定义了一个名为 `CircleToSquare` 的 Manim 场景，并定义了一个自定义的\n",
    "`construct` 方法，该方法充当视频的*蓝图*。`construct`\n",
    "方法的内容描述了视频中具体要渲染的内容。\n",
    "\n",
    "``` py\n",
    "blue_circle = Circle(color=BLUE, fill_opacity=0.5)\n",
    "green_square = Square(color=GREEN, fill_opacity=0.8)\n",
    "```\n",
    "\n",
    "前两行创建了一个 `Circle` 和一个 `Square`\n",
    "对象，并指定了颜色和填充不透明度。然而，这些还没有被添加到场景中！要添加它们，你要么必须使用\n",
    "`self.add`，要么…\n",
    "\n",
    "``` py\n",
    "self.play(Create(blue_circle))\n",
    "self.wait()\n",
    "```\n",
    "\n",
    "…通过播放一个将 Manim\n",
    "对象（*Mobject*）添加到场景中的动画。在该方法中，`self`\n",
    "引用当前场景，`self.play(my_animation)`\n",
    "可以理解为“*这个场景应该播放我的动画*”。\n",
    "\n",
    "`Create` 就是这样一种动画，但还有许多其他动画（例如 `FadeIn` 或\n",
    "`DrawBorderThenFill`——在上面试试它们！）。`self.wait()`\n",
    "调用的作用正如你所期望的：它会暂停视频一段时间（默认情况下：一秒钟）。将其改为\n",
    "`self.wait(2)` 可获得两秒钟的暂停，依此类推。\n",
    "\n",
    "最后两行，\n",
    "\n",
    "    self.play(Transform(blue_circle, green_square))\n",
    "    self.wait()\n",
    "\n",
    "负责从蓝色圆到绿色正方形的实际变换（之后还有一秒钟的暂停）。"
   ]
  },
  {
   "cell_type": "markdown",
   "id": "polyphonic-sucking",
   "metadata": {},
   "source": [
    "## 定位和移动 Mobjects"
   ]
  },
  {
   "cell_type": "markdown",
   "id": "pursuant-bubble",
   "metadata": {},
   "source": [
    "新的问题：我们想要创建一个场景，其中在创建一个圆的同时，在其下方写一些文本。我们可以重用上面的蓝色圆，然后添加一些新代码："
   ]
  },
  {
   "cell_type": "code",
   "execution_count": null,
   "id": "dedicated-wiring",
   "metadata": {},
   "outputs": [],
   "source": [
    "%%manim -qm HelloCircle\n",
    "\n",
    "class HelloCircle(Scene):\n",
    "    def construct(self):\n",
    "        # blue_circle = Circle(color=BLUE, fill_opacity=0.5)\n",
    "        # We can also create a \"plain\" circle and add the desired attributes via set methods:\n",
    "        circle = Circle()\n",
    "        blue_circle = circle.set_color(BLUE).set_opacity(0.5)\n",
    "        \n",
    "        label = Text(\"A wild circle appears!\")\n",
    "        label.next_to(blue_circle, DOWN, buff=0.5)\n",
    "        \n",
    "        self.play(Create(blue_circle), Write(label))\n",
    "        self.wait()"
   ]
  },
  {
   "cell_type": "markdown",
   "id": "quick-temperature",
   "metadata": {},
   "source": [
    "显然，可以使用 `Text` Mobject 来渲染文本——而通过以下代码行可以实现所需的位置：\n",
    "```py\n",
    "label.next_to(blue_circle, DOWN, buff=0.5)\n",
    "```\n",
    "Mobjects 有一些用于定位的方法，`next_to` 是其中之一（`shift`、`to_edge`、`to_corner`、`move_to` 是另外一些——通过左侧的搜索栏在我们的[文档](https://docs.manim.community/)中查看它们！）。对于 `next_to`，传递的第一个参数（`blue_circle`）描述了我们的 `label` 应该放置在哪个对象旁边。第二个参数 `DOWN` 描述了方向（尝试改为 `LEFT`、`UP` 或 `RIGHT` 看看效果！）。最后，`buff=0.5` 控制 `blue_circle` 和 `label` 之间的“缓冲距离”，增大这个值会将 `label` 推得更靠下。\n",
    "\n",
    "但还要注意，`self.play` 调用已经改变：可以向 `self.play` 传递多个动画参数，它们将同时播放。如果你想让它们一个接一个地播放，将 `self.play` 调用替换为以下行：\n",
    "```py\n",
    "self.play(Create(blue_circle))\n",
    "self.play(Write(label))\n",
    "```\n",
    "看看会发生什么。\n",
    "\n",
    "顺便说一下，Mobjects 自然也有与定位无关的方法：例如，要得到我们的蓝色圆，我们也可以创建一个默认的圆，然后设置颜色和不透明度：\n",
    "```py\n",
    "circle = Circle()\n",
    "blue_transparent_circle = circle.set_color(BLUE)\n",
    "blue_circle = blue_transparent_circle.set_opacity(0.5)\n",
    "```\n",
    "更简短的版本是：\n",
    "```py\n",
    "blue_circle = Circle().set_color(BLUE).set_opacity(0.5)\n",
    "```\n",
    "现在，我们将继续在对 `Circle` 的调用中直接设置属性。"
   ]
  },
  {
   "cell_type": "markdown",
   "id": "composed-solomon",
   "metadata": {},
   "source": [
    "## 动画方法调用：`.animate` 语法"
   ]
  },
  {
   "cell_type": "markdown",
   "id": "opponent-institution",
   "metadata": {},
   "source": [
    "在最后一个例子中，我们遇到了 `.next_to` 方法，这是许多（！）修改 Mobjects 的方法之一。但是，如果我们想在应用这些方法（例如 `shift` 移动某物、`rotate` 旋转一个 Mobject 或 `scale` 缩放它）时，对 Mobject 的变化进行动画处理，该怎么办呢？`.animate` 语法就是解决这个问题的方法，让我们来看一个例子。"
   ]
  },
  {
   "cell_type": "code",
   "execution_count": null,
   "id": "formal-bargain",
   "metadata": {},
   "outputs": [],
   "source": [
    "%%manim -qm CircleAnnouncement\n",
    "\n",
    "class CircleAnnouncement(Scene):\n",
    "    def construct(self):\n",
    "        blue_circle = Circle(color=BLUE, fill_opacity=0.5)\n",
    "        announcement = Text(\"Let us draw a circle.\")\n",
    "        \n",
    "        self.play(Write(announcement))\n",
    "        self.wait()\n",
    "        \n",
    "        self.play(announcement.animate.next_to(blue_circle, UP, buff=0.5))\n",
    "        self.play(Create(blue_circle))"
   ]
  },
  {
   "cell_type": "markdown",
   "id": "attractive-citizenship",
   "metadata": {},
   "source": [
    "通常我们会使用 `announcement.next_to(blue_circle, UP, buff=0.5)` 来定位文本而不产生动画，而我们可以在方法调用前加上 `.animate`，将方法的应用转换为一个动画，然后可以使用 `self.play` 来播放这个动画。这适用于所有以某种方式修改 Mobject 的方法："
   ]
  },
  {
   "cell_type": "code",
   "execution_count": null,
   "id": "primary-postage",
   "metadata": {},
   "outputs": [],
   "source": [
    "%%manim -qm AnimateSyntax\n",
    "\n",
    "class AnimateSyntax(Scene):\n",
    "    def construct(self):\n",
    "        triangle = Triangle(color=RED, fill_opacity=1)\n",
    "        self.play(DrawBorderThenFill(triangle))\n",
    "        self.play(triangle.animate.shift(LEFT))\n",
    "        self.play(triangle.animate.shift(RIGHT).scale(2))\n",
    "        self.play(triangle.animate.rotate(PI/3))"
   ]
  },
  {
   "cell_type": "markdown",
   "id": "prompt-reaction",
   "metadata": {},
   "source": [
    "在第一个 play 调用中，三角形被创建；在第二个调用中，它被向左移动；然后在第三个调用中，它被向右移回并同时放大 2 倍；最后在第四个调用中，它被旋转了 $\\pi/3$ 角度。修改一些值后再次运行上面的单元格，或者尝试其他方法，例如 `set_color`。\n",
    "\n",
    "仔细观察上面场景中的最后一个动画（旋转），你可能会注意到这*实际上*并不是旋转。三角形被变换为自身的旋转版本，但在动画过程中，三角形的顶点并不是沿着弧线移动（就像三角形绕其中心旋转时那样），而是沿着直线移动，这使得动画给人的印象是三角形先稍微缩小，然后再放大。\n",
    "\n",
    "这实际上**不是一个 bug**，而是 `.animate` 语法工作方式的结果：动画是通过指定起始状态（在示例中是 `triangle` Mobject）和最终状态（旋转后的 mobject，`triangle.rotate(PI/3)`）来构建的。然后 Manim 尝试在这两者之间进行插值，但实际上并不知道你希望平滑地旋转三角形。下面的例子清楚地说明了这一点："
   ]
  },
  {
   "cell_type": "code",
   "execution_count": null,
   "id": "recent-department",
   "metadata": {},
   "outputs": [],
   "source": [
    "%%manim -qm DifferentRotations\n",
    "\n",
    "class DifferentRotations(Scene):\n",
    "    def construct(self):\n",
    "        left_square = Square(color=BLUE, fill_opacity=0.7).shift(2*LEFT)\n",
    "        right_square = Square(color=GREEN, fill_opacity=0.7).shift(2*RIGHT)\n",
    "        self.play(left_square.animate.rotate(PI), Rotate(right_square, angle=PI), run_time=2)\n",
    "        self.wait()"
   ]
  },
  {
   "cell_type": "markdown",
   "id": "urban-liver",
   "metadata": {},
   "source": [
    "## 排版数学公式"
   ]
  },
  {
   "cell_type": "markdown",
   "id": "divine-evanescence",
   "metadata": {},
   "source": [
    "Manim 支持渲染和动画化 LaTeX，这是一种常用于排版数学公式的标记语言。在[这个 30 分钟的教程](https://www.overleaf.com/learn/latex/Learn_LaTeX_in_30_minutes)中了解更多信息。\n",
    "\n",
    "以下是在 Manim 中使用 LaTeX 的一个简单示例："
   ]
  },
  {
   "cell_type": "code",
   "execution_count": null,
   "id": "bulgarian-violin",
   "metadata": {},
   "outputs": [],
   "source": [
    "%%manim -qm CauchyIntegralFormula\n",
    "\n",
    "class CauchyIntegralFormula(Scene):\n",
    "    def construct(self):\n",
    "        formula = MathTex(r\"[z^n]f(z) = \\frac{1}{2\\pi i}\\oint_{\\gamma} \\frac{f(z)}{z^{n+1}}~dz\")\n",
    "        self.play(Write(formula), run_time=3)\n",
    "        self.wait()"
   ]
  },
  {
   "cell_type": "markdown",
   "id": "potential-crowd",
   "metadata": {},
   "source": [
    "如这个例子所示，`MathTex` 允许渲染简单的（数学模式的）LaTeX 字符串。如果你想渲染“正常模式”的 LaTeX，请使用 `Tex` 代替。\n",
    "\n",
    "当然，Manim 也可以帮助你可视化排版公式的变换。考虑以下示例："
   ]
  },
  {
   "cell_type": "code",
   "execution_count": null,
   "id": "proof-multiple",
   "metadata": {},
   "outputs": [],
   "source": [
    "%%manim -qm TransformEquation\n",
    "\n",
    "class TransformEquation(Scene):\n",
    "    def construct(self):\n",
    "        eq1 = MathTex(\"42 {{ a^2 }} + {{ b^2 }} = {{ c^2 }}\")\n",
    "        eq2 = MathTex(\"42 {{ a^2 }} = {{ c^2 }} - {{ b^2 }}\")\n",
    "        eq3 = MathTex(r\"a^2 = \\frac{c^2 - b^2}{42}\")\n",
    "        self.add(eq1)\n",
    "        self.wait()\n",
    "        self.play(TransformMatchingTex(eq1, eq2))\n",
    "        self.wait()\n",
    "        self.play(TransformMatchingShapes(eq2, eq3))\n",
    "        self.wait()"
   ]
  },
  {
   "cell_type": "markdown",
   "id": "fuzzy-output",
   "metadata": {},
   "source": [
    "在最后这个例子中，`eq1` 和 `eq2` 有一些双大括号的位置，而在普通的 LaTeX 中通常不会有。这是特殊的 Manim 符号，它以特定的方式对生成的 `Tex` Mobjects `eq1` 和 `eq2` 进行分组。\n",
    "\n",
    "这种特殊符号在使用 `TransformMatchingTex` 动画时很有帮助：它会将具有相同 TeX 字符串的部分（例如，`a^2` 到 `a^2`）相互变换——如果没有这种特殊符号，整个方程会被视为一个长的 TeX 字符串。相比之下，`TransformMatchingShapes` 没那么智能：它只是尝试将“看起来相同”的形状相互变换——尽管如此，它仍然经常非常有用。"
   ]
  },
  {
   "cell_type": "markdown",
   "id": "monetary-sleep",
   "metadata": {},
   "source": [
    "如果你已经学到了这里，你应该对这个库的基本用法有了一个初步的印象。下面你可以找到一些更高级的例子，它们说明了库中的一些更专门的概念。来吧，试着像修改上面的例子一样修改它们！浏览我们的[文档](https://docs.manim.community)，了解已经实现的功能——如果你想构建一些更复杂的对象，也可以查看源代码。\n",
    "\n",
    "[社区](https://www.manim.community/discord/)当然也很乐意回答问题——我们希望你能与我们分享你很棒的项目！** 愉快地“manimating”吧！**"
   ]
  },
  {
   "cell_type": "markdown",
   "id": "attractive-fight",
   "metadata": {},
   "source": [
    "## 一些特定的例子"
   ]
  },
  {
   "cell_type": "markdown",
   "id": "editorial-growth",
   "metadata": {},
   "source": [
    "在深入研究这些例子之前请注意：它们展示的是专门的概念，旨在让你感受更复杂的场景是如何设置和编码的。这些例子没有附加说明，它们**不打算作为（入门级）学习资源**。"
   ]
  },
  {
   "cell_type": "code",
   "execution_count": null,
   "id": "unexpected-berlin",
   "metadata": {},
   "outputs": [],
   "source": [
    "%%manim -qm FormulaEmphasis\n",
    "\n",
    "class FormulaEmphasis(Scene):\n",
    "    def construct(self):\n",
    "        product_formula = MathTex(\n",
    "            r\"\\frac{d}{dx} f(x)g(x) =\",\n",
    "            r\"f(x) \\frac{d}{dx} g(x)\",\n",
    "            r\"+\",\n",
    "            r\"g(x) \\frac{d}{dx} f(x)\"\n",
    "        )\n",
    "        self.play(Write(product_formula))\n",
    "        box1 = SurroundingRectangle(product_formula[1], buff=0.1)\n",
    "        box2 = SurroundingRectangle(product_formula[3], buff=0.1)\n",
    "        self.play(Create(box1))\n",
    "        self.wait()\n",
    "        self.play(Transform(box1, box2))\n",
    "        self.wait()"
   ]
  },
  {
   "cell_type": "code",
   "execution_count": null,
   "id": "aware-dispatch",
   "metadata": {},
   "outputs": [],
   "source": [
    "%%manim -qm PlotExample\n",
    "\n",
    "class PlotExample(Scene):\n",
    "    def construct(self):\n",
    "        plot_axes = Axes(\n",
    "            x_range=[0, 1, 0.05],\n",
    "            y_range=[0, 1, 0.05],\n",
    "            x_length=9,\n",
    "            y_length=5.5,\n",
    "            axis_config={\n",
    "                \"numbers_to_include\": np.arange(0, 1 + 0.1, 0.1),\n",
    "                \"font_size\": 24,\n",
    "            },\n",
    "            tips=False,\n",
    "        )\n",
    "\n",
    "        y_label = plot_axes.get_y_axis_label(\"y\", edge=LEFT, direction=LEFT, buff=0.4)\n",
    "        x_label = plot_axes.get_x_axis_label(\"x\")\n",
    "        plot_labels = VGroup(x_label, y_label)\n",
    "\n",
    "        plots = VGroup()\n",
    "        for n in np.arange(1, 20 + 0.5, 0.5):\n",
    "            plots += plot_axes.plot(lambda x: x**n, color=WHITE)\n",
    "            plots += plot_axes.plot(\n",
    "                lambda x: x**(1 / n), color=WHITE, use_smoothing=False\n",
    "            )\n",
    "\n",
    "        extras = VGroup()\n",
    "        extras += plot_axes.get_horizontal_line(plot_axes.c2p(1, 1, 0), color=BLUE)\n",
    "        extras += plot_axes.get_vertical_line(plot_axes.c2p(1, 1, 0), color=BLUE)\n",
    "        extras += Dot(point=plot_axes.c2p(1, 1, 0), color=YELLOW)\n",
    "        title = Title(\n",
    "            r\"Graphs of $y=x^{\\frac{1}{n}}$ and $y=x^n (n=1, 1.5, 2, 2.5, 3, \\dots, 20)$\",\n",
    "            include_underline=False,\n",
    "            font_size=40,\n",
    "        )\n",
    "        \n",
    "        self.play(Write(title))\n",
    "        self.play(Create(plot_axes), Create(plot_labels), Create(extras))\n",
    "        self.play(AnimationGroup(*[Create(plot) for plot in plots], lag_ratio=0.05))"
   ]
  },
  {
   "cell_type": "code",
   "execution_count": null,
   "id": "significant-toner",
   "metadata": {},
   "outputs": [],
   "source": [
    "%%manim -qm ErdosRenyiGraph\n",
    "\n",
    "import networkx as nx\n",
    "\n",
    "nxgraph = nx.erdos_renyi_graph(14, 0.5)\n",
    "\n",
    "class ErdosRenyiGraph(Scene):\n",
    "    def construct(self):\n",
    "        G = Graph.from_networkx(nxgraph, layout=\"spring\", layout_scale=3.5)\n",
    "        self.play(Create(G))\n",
    "        self.play(*[G[v].animate.move_to(5*RIGHT*np.cos(ind/7 * PI) +\n",
    "                                         3*UP*np.sin(ind/7 * PI))\n",
    "                    for ind, v in enumerate(G.vertices)])\n",
    "        self.play(Uncreate(G))"
   ]
  },
  {
   "cell_type": "code",
   "execution_count": null,
   "id": "electrical-forty",
   "metadata": {},
   "outputs": [],
   "source": [
    "%%manim -qm CodeFromString\n",
    "\n",
    "class CodeFromString(Scene):\n",
    "    def construct(self):\n",
    "        code = '''from manim import Scene, Square\n",
    "\n",
    "class FadeInSquare(Scene):\n",
    "    def construct(self):\n",
    "        s = Square()\n",
    "        self.play(FadeIn(s))\n",
    "        self.play(s.animate.scale(2))\n",
    "        self.wait()\n",
    "'''\n",
    "        rendered_code = Code(\n",
    "            code_string=code, tab_width=4, background=\"window\",\n",
    "            language=\"python\", paragraph_config=dict(font=\"Monospace\")\n",
    "        )\n",
    "        self.play(Write(rendered_code))\n",
    "        self.wait(2)"
   ]
  },
  {
   "cell_type": "code",
   "execution_count": null,
   "id": "funny-reservoir",
   "metadata": {},
   "outputs": [],
   "source": [
    "%%manim -qm OpeningManim\n",
    "\n",
    "class OpeningManim(Scene):\n",
    "    def construct(self):\n",
    "        title = Tex(r\"This is some \\LaTeX\")\n",
    "        basel = MathTex(r\"\\sum_{n=1}^\\infty \\frac{1}{n^2} = \\frac{\\pi^2}{6}\")\n",
    "        VGroup(title, basel).arrange(DOWN)\n",
    "        self.play(\n",
    "            Write(title),\n",
    "            FadeIn(basel, shift=UP),\n",
    "        )\n",
    "        self.wait()\n",
    "\n",
    "        transform_title = Tex(\"That was a transform\")\n",
    "        transform_title.to_corner(UP + LEFT)\n",
    "        self.play(\n",
    "            Transform(title, transform_title),\n",
    "            LaggedStart(*[FadeOut(obj, shift=DOWN) for obj in basel]),\n",
    "        )\n",
    "        self.wait()\n",
    "\n",
    "        grid = NumberPlane(x_range=(-10, 10, 1), y_range=(-6.0, 6.0, 1))\n",
    "        grid_title = Tex(\"This is a grid\")\n",
    "        grid_title.scale(1.5)\n",
    "        grid_title.move_to(transform_title)\n",
    "\n",
    "        self.add(grid, grid_title)\n",
    "        self.play(\n",
    "            FadeOut(title),\n",
    "            FadeIn(grid_title, shift=DOWN),\n",
    "            Create(grid, run_time=3, lag_ratio=0.1),\n",
    "        )\n",
    "        self.wait()\n",
    "\n",
    "        grid_transform_title = Tex(\n",
    "            r\"That was a non-linear function \\\\ applied to the grid\"\n",
    "        )\n",
    "        grid_transform_title.move_to(grid_title, UL)\n",
    "        grid.prepare_for_nonlinear_transform()\n",
    "        self.play(\n",
    "            grid.animate.apply_function(\n",
    "                lambda p: p + np.array([np.sin(p[1]), np.sin(p[0]), 0])\n",
    "            ),\n",
    "            run_time=3,\n",
    "        )\n",
    "        self.wait()\n",
    "        self.play(Transform(grid_title, grid_transform_title))\n",
    "        self.wait()"
   ]
  },
  {
   "cell_type": "code",
   "execution_count": null,
   "id": "enabling-greek",
   "metadata": {},
   "outputs": [],
   "source": []
  }
 ],
 "metadata": {
  "kernelspec": {
   "display_name": "Python 3 (ipykernel)",
   "language": "python",
   "name": "python3"
  },
  "language_info": {
   "codemirror_mode": {
    "name": "ipython",
    "version": 3
   },
   "file_extension": ".py",
   "mimetype": "text/x-python",
   "name": "python",
   "nbconvert_exporter": "python",
   "pygments_lexer": "ipython3",
   "version": "3.13.0"
  }
 },
 "nbformat": 4,
 "nbformat_minor": 5
}
